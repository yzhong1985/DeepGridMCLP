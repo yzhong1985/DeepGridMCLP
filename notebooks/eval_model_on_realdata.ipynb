{
 "cells": [
  {
   "cell_type": "markdown",
   "metadata": {
    "pycharm": {
     "name": "#%% md\n"
    }
   },
   "source": [
    "# Deep Reinforcement Learning for Solving MCLP"
   ]
  },
  {
   "cell_type": "markdown",
   "metadata": {
    "pycharm": {
     "name": "#%% md\n"
    }
   },
   "source": [
    "## Prepare: Install dependencies\n",
    "### Install with pip\n",
    "* PyTorch>=1.1\n",
    "* numpy\n",
    "* tqdm\n",
    "* cv2\n",
    "* tensorboard_logger"
   ]
  },
  {
   "cell_type": "code",
   "execution_count": 1,
   "metadata": {
    "pycharm": {
     "name": "#%%\n"
    }
   },
   "outputs": [],
   "source": [
    "from utils import torch_load_cpu, load_problem, get_inner_model, move_to\n",
    "from nets.attention_model import AttentionModel\n",
    "from train import train_epoch, validate\n",
    "from tensorboard_logger import Logger as TbLogger\n",
    "from torch.utils.data import DataLoader\n",
    "import numpy as np"
   ]
  },
  {
   "cell_type": "markdown",
   "metadata": {
    "pycharm": {
     "name": "#%% md\n"
    }
   },
   "source": [
    "## load the settings"
   ]
  },
  {
   "cell_type": "code",
   "execution_count": 2,
   "metadata": {
    "pycharm": {
     "name": "#%%\n"
    }
   },
   "outputs": [],
   "source": [
    "# load the run args\n",
    "%run options\n",
    "\n",
    "# Set the random seed\n",
    "torch.manual_seed(1234)\n",
    "\n",
    "# Optionally configure tensorboard\n",
    "tb_logger = None\n",
    "if not opts.no_tensorboard:\n",
    "    tb_logger = TbLogger(os.path.join(opts.log_dir, \"{}_{}\".format(opts.problem, opts.n_users, opts.n_facilities), opts.run_name))\n",
    "\n",
    "# Set the device\n",
    "use_cuda=True\n",
    "opts.device = torch.device(\"cuda\" if use_cuda else \"cpu\")"
   ]
  },
  {
   "cell_type": "markdown",
   "metadata": {
    "pycharm": {
     "name": "#%% md\n"
    }
   },
   "source": [
    "## Figure out what's the problem"
   ]
  },
  {
   "cell_type": "code",
   "execution_count": 3,
   "metadata": {
    "pycharm": {
     "name": "#%%\n"
    }
   },
   "outputs": [
    {
     "data": {
      "text/plain": [
       "problems.MCLP.problem_MCLP.MCLP"
      ]
     },
     "execution_count": 3,
     "metadata": {},
     "output_type": "execute_result"
    }
   ],
   "source": [
    "problem = load_problem(opts.problem)\n",
    "problem"
   ]
  },
  {
   "cell_type": "markdown",
   "metadata": {
    "pycharm": {
     "name": "#%% md\n"
    }
   },
   "source": [
    "## Initialize our policy network"
   ]
  },
  {
   "cell_type": "code",
   "execution_count": 4,
   "metadata": {
    "pycharm": {
     "name": "#%%\n"
    }
   },
   "outputs": [
    {
     "data": {
      "text/plain": [
       "AttentionModel(\n",
       "  (init_embed): Linear(in_features=2, out_features=128, bias=True)\n",
       "  (init_dynamic): Linear(in_features=1, out_features=32, bias=True)\n",
       "  (l2_dynamic): Linear(in_features=32, out_features=64, bias=True)\n",
       "  (l3_dynamic): Linear(in_features=64, out_features=128, bias=True)\n",
       "  (embedder): GraphAttentionEncoder(\n",
       "    (layers): Sequential(\n",
       "      (0): MultiHeadAttentionLayer(\n",
       "        (0): SkipConnection(\n",
       "          (module): MultiHeadAttention()\n",
       "        )\n",
       "        (1): Normalization(\n",
       "          (normalizer): BatchNorm1d(128, eps=1e-05, momentum=0.1, affine=True, track_running_stats=True)\n",
       "        )\n",
       "        (2): SkipConnection(\n",
       "          (module): Sequential(\n",
       "            (0): Linear(in_features=128, out_features=512, bias=True)\n",
       "            (1): ReLU()\n",
       "            (2): Linear(in_features=512, out_features=128, bias=True)\n",
       "          )\n",
       "        )\n",
       "        (3): Normalization(\n",
       "          (normalizer): BatchNorm1d(128, eps=1e-05, momentum=0.1, affine=True, track_running_stats=True)\n",
       "        )\n",
       "      )\n",
       "      (1): MultiHeadAttentionLayer(\n",
       "        (0): SkipConnection(\n",
       "          (module): MultiHeadAttention()\n",
       "        )\n",
       "        (1): Normalization(\n",
       "          (normalizer): BatchNorm1d(128, eps=1e-05, momentum=0.1, affine=True, track_running_stats=True)\n",
       "        )\n",
       "        (2): SkipConnection(\n",
       "          (module): Sequential(\n",
       "            (0): Linear(in_features=128, out_features=512, bias=True)\n",
       "            (1): ReLU()\n",
       "            (2): Linear(in_features=512, out_features=128, bias=True)\n",
       "          )\n",
       "        )\n",
       "        (3): Normalization(\n",
       "          (normalizer): BatchNorm1d(128, eps=1e-05, momentum=0.1, affine=True, track_running_stats=True)\n",
       "        )\n",
       "      )\n",
       "      (2): MultiHeadAttentionLayer(\n",
       "        (0): SkipConnection(\n",
       "          (module): MultiHeadAttention()\n",
       "        )\n",
       "        (1): Normalization(\n",
       "          (normalizer): BatchNorm1d(128, eps=1e-05, momentum=0.1, affine=True, track_running_stats=True)\n",
       "        )\n",
       "        (2): SkipConnection(\n",
       "          (module): Sequential(\n",
       "            (0): Linear(in_features=128, out_features=512, bias=True)\n",
       "            (1): ReLU()\n",
       "            (2): Linear(in_features=512, out_features=128, bias=True)\n",
       "          )\n",
       "        )\n",
       "        (3): Normalization(\n",
       "          (normalizer): BatchNorm1d(128, eps=1e-05, momentum=0.1, affine=True, track_running_stats=True)\n",
       "        )\n",
       "      )\n",
       "    )\n",
       "  )\n",
       "  (gru): GRU(128, 128, batch_first=True)\n",
       "  (project_node_embeddings): Linear(in_features=128, out_features=384, bias=False)\n",
       "  (project_fixed_context): Linear(in_features=128, out_features=128, bias=False)\n",
       "  (project_step_context): Linear(in_features=256, out_features=128, bias=False)\n",
       "  (project_out): Linear(in_features=128, out_features=128, bias=False)\n",
       ")"
      ]
     },
     "execution_count": 4,
     "metadata": {},
     "output_type": "execute_result"
    }
   ],
   "source": [
    "model_class = {\n",
    "    'attention': AttentionModel\n",
    "}.get(opts.model, None)\n",
    "\n",
    "model = model_class(\n",
    "    embedding_dim=128,\n",
    "    hidden_dim=128,\n",
    "    problem=problem,\n",
    "    n_encode_layers=3,\n",
    "    mask_inner=True,\n",
    "    mask_logits=True,\n",
    "    normalization=\"batch\",\n",
    "    tanh_clipping=6,\n",
    "    checkpoint_encoder=opts.checkpoint_encoder,\n",
    "    shrink_size=opts.shrink_size,\n",
    "    dy=False\n",
    ").to(opts.device)\n",
    "\n",
    "if opts.use_cuda and torch.cuda.device_count() > 1:\n",
    "    model = torch.nn.DataParallel(model)\n",
    "\n",
    "model"
   ]
  },
  {
   "cell_type": "markdown",
   "metadata": {
    "pycharm": {
     "name": "#%% md\n"
    }
   },
   "source": [
    "## load the trained model"
   ]
  },
  {
   "cell_type": "code",
   "execution_count": 5,
   "metadata": {
    "pycharm": {
     "name": "#%%\n"
    }
   },
   "outputs": [
    {
     "name": "stdout",
     "output_type": "stream",
     "text": [
      "  [*] Loading the trained model from ./outputs/MCLP/1000_100_20_20241006T130107/epoch-199.pt\n"
     ]
    },
    {
     "data": {
      "text/plain": [
       "<All keys matched successfully>"
      ]
     },
     "execution_count": 5,
     "metadata": {},
     "output_type": "execute_result"
    }
   ],
   "source": [
    "opts.load_path = \"./outputs/MCLP/1000_100_20_20241006T130107/epoch-199.pt\"\n",
    "\n",
    "# opts.load_path = './outputs/MCLP_200_100_25/epoch-199.pt'\n",
    "# load model from load_path\n",
    "assert opts.load_path is None or opts.resume is None, \"Only one of load path and resume can be given\"\n",
    "load_path = opts.load_path if opts.load_path is not None else opts.resume\n",
    "if load_path is not None:\n",
    "    print('  [*] Loading the trained model from {}'.format(load_path))\n",
    "    load_data = torch_load_cpu(load_path)\n",
    "\n",
    "# Overwrite model parameters by parameters to load q\n",
    "model_ = get_inner_model(model)\n",
    "model.load_state_dict({**model_.state_dict(), **load_data.get('model', {})})"
   ]
  },
  {
   "cell_type": "markdown",
   "metadata": {
    "pycharm": {
     "name": "#%% md\n"
    }
   },
   "source": [
    "## Load the datasets"
   ]
  },
  {
   "cell_type": "code",
   "execution_count": 7,
   "metadata": {
    "pycharm": {
     "name": "#%%\n"
    }
   },
   "outputs": [],
   "source": [
    "# filename = \"./data/MCLP/MCLP_50_20_8.pkl\"\n",
    "filename = \"./data/mclp_1000_100_20_random_train.pkl\"\n",
    "# filename = \"./data/MCLP/MCLP_200_100_25.pkl\""
   ]
  },
  {
   "cell_type": "code",
   "execution_count": 8,
   "metadata": {
    "pycharm": {
     "name": "#%%\n"
    }
   },
   "outputs": [],
   "source": [
    "dataset = problem.make_dataset(n_users=opts.n_users,\n",
    "                               n_facilities=opts.n_facilities,\n",
    "                               num_samples=opts.val_size,\n",
    "                               filename = filename)"
   ]
  },
  {
   "cell_type": "code",
   "execution_count": 9,
   "metadata": {
    "pycharm": {
     "name": "#%%\n"
    }
   },
   "outputs": [
    {
     "name": "stdout",
     "output_type": "stream",
     "text": [
      "Validating...\n"
     ]
    },
    {
     "name": "stderr",
     "output_type": "stream",
     "text": [
      "100%|████████████████████████████████████████████████████████████████████████████████████| 2/2 [00:00<00:00,  2.78it/s]"
     ]
    },
    {
     "name": "stdout",
     "output_type": "stream",
     "text": [
      "Validation overall avg_cost: -479.5921936035156 +- 0.12095291167497635\n",
      "CPU times: total: 203 ms\n",
      "Wall time: 729 ms\n"
     ]
    },
    {
     "name": "stderr",
     "output_type": "stream",
     "text": [
      "\n"
     ]
    },
    {
     "data": {
      "text/plain": [
       "tensor(-479.5922)"
      ]
     },
     "execution_count": 9,
     "metadata": {},
     "output_type": "execute_result"
    }
   ],
   "source": [
    "%%time\n",
    "validate(model, dataset, opts)"
   ]
  },
  {
   "cell_type": "code",
   "execution_count": 10,
   "metadata": {
    "pycharm": {
     "name": "#%%\n"
    }
   },
   "outputs": [],
   "source": [
    "opts.eval_batch_size = 1\n",
    "opts.max_calc_batch_size = 1280000\n",
    "width = 1280"
   ]
  },
  {
   "cell_type": "code",
   "execution_count": 11,
   "metadata": {
    "pycharm": {
     "name": "#%%\n"
    }
   },
   "outputs": [],
   "source": [
    "from tqdm import tqdm\n",
    "opts.decode_strategy = 'sampling'\n",
    "model.eval()\n",
    "model.set_decode_type(\n",
    "    \"greedy\" if opts.decode_strategy in ('bs', 'greedy') else \"sampling\")\n",
    "dataloader = DataLoader(dataset, batch_size=opts.eval_batch_size)\n"
   ]
  },
  {
   "cell_type": "code",
   "execution_count": 12,
   "metadata": {
    "pycharm": {
     "name": "#%%\n"
    }
   },
   "outputs": [],
   "source": [
    "def get_best(sequences, cost, ids=None, batch_size=None):\n",
    "    \"\"\"\n",
    "    Ids contains [0, 0, 0, 1, 1, 2, ..., n, n, n] if 3 solutions found for 0th instance, 2 for 1st, etc\n",
    "    :param sequences:\n",
    "    :param lengths:\n",
    "    :param ids:\n",
    "    :return: list with n sequences and list with n lengths of solutions\n",
    "    \"\"\"\n",
    "    if ids is None:\n",
    "        idx = cost.argmin()\n",
    "        return sequences[idx:idx+1, ...], cost[idx:idx+1, ...]\n",
    "\n",
    "    splits = np.hstack([0, np.where(ids[:-1] != ids[1:])[0] + 1])\n",
    "    mincosts = np.minimum.reduceat(cost, splits)\n",
    "\n",
    "    group_lengths = np.diff(np.hstack([splits, len(ids)]))\n",
    "    all_argmin = np.flatnonzero(np.repeat(mincosts, group_lengths) == cost)\n",
    "    result = np.full(len(group_lengths) if batch_size is None else batch_size, -1, dtype=int)\n",
    "\n",
    "    result[ids[all_argmin[::-1]]] = all_argmin[::-1]\n",
    "\n",
    "    return [sequences[i] if i >= 0 else None for i in result], [cost[i] if i >= 0 else math.inf for i in result]"
   ]
  },
  {
   "cell_type": "code",
   "execution_count": 13,
   "metadata": {
    "pycharm": {
     "name": "#%%\n"
    }
   },
   "outputs": [],
   "source": [
    "results = []\n",
    "for batch in tqdm(dataloader, disable=True):\n",
    "    batch = move_to(batch, opts.device)\n",
    "    start = time.time()\n",
    "    with torch.no_grad():\n",
    "        if opts.decode_strategy in ('sampling', 'greedy'):\n",
    "            if opts.decode_strategy == 'greedy':\n",
    "                assert width == 0, \"Do not set width when using greedy\"\n",
    "                assert opts.eval_batch_size <= opts.max_calc_batch_size, \\\n",
    "                    \"eval_batch_size should be smaller than calc batch size\"\n",
    "                batch_rep = 1\n",
    "                iter_rep = 1\n",
    "            elif width * opts.eval_batch_size > opts.max_calc_batch_size:\n",
    "                assert opts.eval_batch_size == 1\n",
    "                assert width % opts.max_calc_batch_size == 0\n",
    "                batch_rep = opts.max_calc_batch_size\n",
    "                iter_rep = width // opts.max_calc_batch_size\n",
    "            else:\n",
    "                batch_rep = width\n",
    "                iter_rep = 1\n",
    "            assert batch_rep > 0\n",
    "            # This returns (batch_size, iter_rep shape)\n",
    "\n",
    "            sequences, costs = model.sample_many(batch, batch_rep=batch_rep, iter_rep=iter_rep)\n",
    "            batch_size = len(costs)\n",
    "            ids = torch.arange(batch_size, dtype=torch.int64, device=costs.device)\n",
    "#         else:\n",
    "#             # assert opts.decode_strategy == 'bs'\n",
    "\n",
    "#             cum_log_p, sequences, costs, ids, batch_size = model.beam_search(\n",
    "#                 batch, beam_size=width,\n",
    "#                 compress_mask=opts.compress_mask,\n",
    "#                 max_calc_batch_size=opts.max_calc_batch_size\n",
    "#             )\n",
    "            if sequences is None:\n",
    "                sequences = [None] * batch_size\n",
    "                costs = [math.inf] * batch_size\n",
    "            else:\n",
    "                sequences, costs = get_best(\n",
    "                    sequences.cpu().numpy(), costs.cpu().numpy(),\n",
    "                    ids.cpu().numpy() if ids is not None else None,\n",
    "                    batch_size\n",
    "                )\n",
    "            duration = time.time() - start\n",
    "            for seq, cost in zip(sequences, costs):\n",
    "                seq = seq.tolist()\n",
    "                results.append((cost, seq, duration))\n",
    "costs, tours, durations = zip(*results)"
   ]
  },
  {
   "cell_type": "code",
   "execution_count": 14,
   "metadata": {
    "pycharm": {
     "name": "#%%\n"
    }
   },
   "outputs": [
    {
     "name": "stdout",
     "output_type": "stream",
     "text": [
      "Average cost: -484.3651428222656 +- 0.18389550944614727\n",
      "Average serial duration: 0.2793963587284088 +- 0.0012093587488511087\n",
      "Average parallel duration: 0.02793963587284088\n",
      "Calculated total duration: 0:00:55\n"
     ]
    }
   ],
   "source": [
    "from datetime import timedelta\n",
    "parallelism = opts.eval_batch_size\n",
    "print(\"Average cost: {} +- {}\".format(np.mean(costs), 2 * np.std(costs) / np.sqrt(len(costs))))\n",
    "print(\"Average serial duration: {} +- {}\".format(\n",
    "    np.mean(durations), 2 * np.std(durations) / np.sqrt(len(durations))))\n",
    "print(\"Average parallel duration: {}\".format(np.mean(durations) / parallelism))\n",
    "print(\"Calculated total duration: {}\".format(timedelta(seconds=int(np.sum(durations) / parallelism))))"
   ]
  },
  {
   "cell_type": "code",
   "execution_count": 14,
   "metadata": {
    "pycharm": {
     "name": "#%%\n"
    }
   },
   "outputs": [],
   "source": []
  },
  {
   "cell_type": "markdown",
   "metadata": {
    "pycharm": {
     "name": "#%% md\n"
    }
   },
   "source": [
    "## Load the real-world datasets"
   ]
  },
  {
   "cell_type": "code",
   "execution_count": 15,
   "metadata": {
    "pycharm": {
     "name": "#%%\n"
    }
   },
   "outputs": [],
   "source": [
    "import geopandas as gpd\n",
    "import pandas as pd\n",
    "import numpy as np\n",
    "import matplotlib.pyplot as plt"
   ]
  },
  {
   "cell_type": "markdown",
   "metadata": {
    "pycharm": {
     "name": "#%% md\n"
    }
   },
   "source": [
    "### LandScan Population Distribution\n",
    "LandScan data is preprocessed and excluded the regions with no night-time population. Each point in this dataset represents the population aggregated to the centroid of the corresponding grid cell."
   ]
  },
  {
   "cell_type": "code",
   "execution_count": 16,
   "metadata": {
    "pycharm": {
     "name": "#%%\n"
    }
   },
   "outputs": [
    {
     "name": "stdout",
     "output_type": "stream",
     "text": [
      "Wall time: 78.1 ms\n"
     ]
    },
    {
     "data": {
      "text/html": [
       "<div>\n",
       "<style scoped>\n",
       "    .dataframe tbody tr th:only-of-type {\n",
       "        vertical-align: middle;\n",
       "    }\n",
       "\n",
       "    .dataframe tbody tr th {\n",
       "        vertical-align: top;\n",
       "    }\n",
       "\n",
       "    .dataframe thead th {\n",
       "        text-align: right;\n",
       "    }\n",
       "</style>\n",
       "<table border=\"1\" class=\"dataframe\">\n",
       "  <thead>\n",
       "    <tr style=\"text-align: right;\">\n",
       "      <th></th>\n",
       "      <th>pop_val</th>\n",
       "      <th>speed_mean</th>\n",
       "      <th>pct_from_f</th>\n",
       "      <th>speed_free</th>\n",
       "      <th>geometry</th>\n",
       "      <th>POINT_X</th>\n",
       "      <th>POINT_Y</th>\n",
       "    </tr>\n",
       "  </thead>\n",
       "  <tbody>\n",
       "    <tr>\n",
       "      <th>0</th>\n",
       "      <td>59</td>\n",
       "      <td>25</td>\n",
       "      <td>-10</td>\n",
       "      <td>28</td>\n",
       "      <td>POINT (-13621331.192 6063294.765)</td>\n",
       "      <td>-1.362133e+07</td>\n",
       "      <td>6.063295e+06</td>\n",
       "    </tr>\n",
       "    <tr>\n",
       "      <th>1</th>\n",
       "      <td>708</td>\n",
       "      <td>25</td>\n",
       "      <td>-25</td>\n",
       "      <td>33</td>\n",
       "      <td>POINT (-13620403.530 6063294.765)</td>\n",
       "      <td>-1.362040e+07</td>\n",
       "      <td>6.063295e+06</td>\n",
       "    </tr>\n",
       "    <tr>\n",
       "      <th>2</th>\n",
       "      <td>1781</td>\n",
       "      <td>25</td>\n",
       "      <td>-33</td>\n",
       "      <td>37</td>\n",
       "      <td>POINT (-13619475.867 6063294.765)</td>\n",
       "      <td>-1.361948e+07</td>\n",
       "      <td>6.063295e+06</td>\n",
       "    </tr>\n",
       "  </tbody>\n",
       "</table>\n",
       "</div>"
      ],
      "text/plain": [
       "   pop_val  speed_mean  pct_from_f  speed_free  \\\n",
       "0       59          25         -10          28   \n",
       "1      708          25         -25          33   \n",
       "2     1781          25         -33          37   \n",
       "\n",
       "                            geometry       POINT_X       POINT_Y  \n",
       "0  POINT (-13621331.192 6063294.765) -1.362133e+07  6.063295e+06  \n",
       "1  POINT (-13620403.530 6063294.765) -1.362040e+07  6.063295e+06  \n",
       "2  POINT (-13619475.867 6063294.765) -1.361948e+07  6.063295e+06  "
      ]
     },
     "execution_count": 16,
     "metadata": {},
     "output_type": "execute_result"
    }
   ],
   "source": [
    "%%time\n",
    "ls = gpd.read_file(\"./data/real/seattle_spatial_units_wspeed.shp\")\n",
    "ls['POINT_X'] = ls.geometry.x\n",
    "ls['POINT_Y'] = ls.geometry.y\n",
    "ls.head(3)"
   ]
  },
  {
   "cell_type": "code",
   "execution_count": 17,
   "metadata": {
    "pycharm": {
     "name": "#%%\n"
    }
   },
   "outputs": [
    {
     "name": "stdout",
     "output_type": "stream",
     "text": [
      "The number of records is  428\n",
      "The total speed unit are  8676\n",
      "The total norm speed unit are  1392.173913043476\n"
     ]
    }
   ],
   "source": [
    "def normalize_to_1_10(data):\n",
    "    \"\"\"\n",
    "    将一组数据归一化到1-10\n",
    "    \"\"\"\n",
    "    min_val = min(data)\n",
    "    max_val = max(data)\n",
    "    normalized_data = [(x - min_val) / (max_val - min_val) * 9 + 1 for x in data]\n",
    "    return normalized_data\n",
    "# times -1 for maximizing the sum\n",
    "ls['speed_pct_freeflow_rev'] = ls.pct_from_f * (-1)\n",
    "ls['speed_pct_freeflow_rev_norm'] = normalize_to_1_10(ls['speed_pct_freeflow_rev'])\n",
    "\n",
    "total_pop = sum(ls['speed_pct_freeflow_rev'])\n",
    "total_pop_norm = sum(ls['speed_pct_freeflow_rev_norm'])\n",
    "print(\"The number of records is \", len(ls))\n",
    "print(\"The total speed unit are \", total_pop)\n",
    "print(\"The total norm speed unit are \", total_pop_norm)"
   ]
  },
  {
   "cell_type": "markdown",
   "metadata": {
    "pycharm": {
     "name": "#%% md\n"
    }
   },
   "source": [
    "### Candidate Billboard Location\n",
    "Billboards data were retrieved from LAMAR"
   ]
  },
  {
   "cell_type": "code",
   "execution_count": 18,
   "metadata": {
    "pycharm": {
     "name": "#%%\n"
    }
   },
   "outputs": [
    {
     "name": "stdout",
     "output_type": "stream",
     "text": [
      "The number of billboards in Seattle area is  417\n"
     ]
    },
    {
     "data": {
      "text/html": [
       "<div>\n",
       "<style scoped>\n",
       "    .dataframe tbody tr th:only-of-type {\n",
       "        vertical-align: middle;\n",
       "    }\n",
       "\n",
       "    .dataframe tbody tr th {\n",
       "        vertical-align: top;\n",
       "    }\n",
       "\n",
       "    .dataframe thead th {\n",
       "        text-align: right;\n",
       "    }\n",
       "</style>\n",
       "<table border=\"1\" class=\"dataframe\">\n",
       "  <thead>\n",
       "    <tr style=\"text-align: right;\">\n",
       "      <th></th>\n",
       "      <th>OBJECTID</th>\n",
       "      <th>FID</th>\n",
       "      <th>id</th>\n",
       "      <th>lat</th>\n",
       "      <th>long</th>\n",
       "      <th>cbsaName</th>\n",
       "      <th>cbsaGUID</th>\n",
       "      <th>plantId</th>\n",
       "      <th>tabID</th>\n",
       "      <th>panelID</th>\n",
       "      <th>panelNumbe</th>\n",
       "      <th>hoverText</th>\n",
       "      <th>heading</th>\n",
       "      <th>weeklyImpr</th>\n",
       "      <th>productTyp</th>\n",
       "      <th>POINT_X</th>\n",
       "      <th>POINT_Y</th>\n",
       "    </tr>\n",
       "  </thead>\n",
       "  <tbody>\n",
       "    <tr>\n",
       "      <th>0</th>\n",
       "      <td>1</td>\n",
       "      <td>129578</td>\n",
       "      <td>716613</td>\n",
       "      <td>47.633163</td>\n",
       "      <td>-122.343788</td>\n",
       "      <td>Seattle-Tacoma-Bellevue, WA</td>\n",
       "      <td>8430156E-10EE-DD11-BFE8-001EC9ACE3EE</td>\n",
       "      <td>1002017391</td>\n",
       "      <td>130178</td>\n",
       "      <td>1075967</td>\n",
       "      <td>13004</td>\n",
       "      <td>AURORA AV N WL 95F S/O GARFIELD ST SF-1</td>\n",
       "      <td>S</td>\n",
       "      <td>235621</td>\n",
       "      <td>BULLETINS</td>\n",
       "      <td>-13619248.18</td>\n",
       "      <td>6046041.771</td>\n",
       "    </tr>\n",
       "    <tr>\n",
       "      <th>1</th>\n",
       "      <td>2</td>\n",
       "      <td>129108</td>\n",
       "      <td>716297</td>\n",
       "      <td>47.687099</td>\n",
       "      <td>-122.311958</td>\n",
       "      <td>Seattle-Tacoma-Bellevue, WA</td>\n",
       "      <td>8430156E-10EE-DD11-BFE8-001EC9ACE3EE</td>\n",
       "      <td>1002017391</td>\n",
       "      <td>129796</td>\n",
       "      <td>1075408</td>\n",
       "      <td>8021</td>\n",
       "      <td>15TH AV NE EL 142F N/O NE 80TH ST SF-2</td>\n",
       "      <td>S</td>\n",
       "      <td>70782</td>\n",
       "      <td>POSTERS</td>\n",
       "      <td>-13615704.88</td>\n",
       "      <td>6054956.230</td>\n",
       "    </tr>\n",
       "    <tr>\n",
       "      <th>2</th>\n",
       "      <td>3</td>\n",
       "      <td>128903</td>\n",
       "      <td>716162</td>\n",
       "      <td>47.553207</td>\n",
       "      <td>-122.278850</td>\n",
       "      <td>Seattle-Tacoma-Bellevue, WA</td>\n",
       "      <td>8430156E-10EE-DD11-BFE8-001EC9ACE3EE</td>\n",
       "      <td>1002017391</td>\n",
       "      <td>129690</td>\n",
       "      <td>1075156</td>\n",
       "      <td>6370</td>\n",
       "      <td>RAINIER AV S EL 78F S/O BRANDON ST SF-1</td>\n",
       "      <td>S</td>\n",
       "      <td>66457</td>\n",
       "      <td>POSTERS</td>\n",
       "      <td>-13612019.32</td>\n",
       "      <td>6032843.680</td>\n",
       "    </tr>\n",
       "  </tbody>\n",
       "</table>\n",
       "</div>"
      ],
      "text/plain": [
       "   OBJECTID     FID      id        lat        long  \\\n",
       "0         1  129578  716613  47.633163 -122.343788   \n",
       "1         2  129108  716297  47.687099 -122.311958   \n",
       "2         3  128903  716162  47.553207 -122.278850   \n",
       "\n",
       "                      cbsaName                              cbsaGUID  \\\n",
       "0  Seattle-Tacoma-Bellevue, WA  8430156E-10EE-DD11-BFE8-001EC9ACE3EE   \n",
       "1  Seattle-Tacoma-Bellevue, WA  8430156E-10EE-DD11-BFE8-001EC9ACE3EE   \n",
       "2  Seattle-Tacoma-Bellevue, WA  8430156E-10EE-DD11-BFE8-001EC9ACE3EE   \n",
       "\n",
       "      plantId   tabID  panelID  panelNumbe  \\\n",
       "0  1002017391  130178  1075967       13004   \n",
       "1  1002017391  129796  1075408        8021   \n",
       "2  1002017391  129690  1075156        6370   \n",
       "\n",
       "                                 hoverText heading  weeklyImpr productTyp  \\\n",
       "0  AURORA AV N WL 95F S/O GARFIELD ST SF-1       S      235621  BULLETINS   \n",
       "1   15TH AV NE EL 142F N/O NE 80TH ST SF-2       S       70782    POSTERS   \n",
       "2  RAINIER AV S EL 78F S/O BRANDON ST SF-1       S       66457    POSTERS   \n",
       "\n",
       "       POINT_X      POINT_Y  \n",
       "0 -13619248.18  6046041.771  \n",
       "1 -13615704.88  6054956.230  \n",
       "2 -13612019.32  6032843.680  "
      ]
     },
     "execution_count": 18,
     "metadata": {},
     "output_type": "execute_result"
    }
   ],
   "source": [
    "sitedf = pd.read_csv(\"./data/real/billboards_seattle.csv\")\n",
    "# sites = np.array(sitedf[['NORM_X', 'NORM_Y']], dtype=np.float64)\n",
    "print(\"The number of billboards in Seattle area is \", len(sitedf))\n",
    "sitedf.head(3)"
   ]
  },
  {
   "cell_type": "markdown",
   "metadata": {
    "pycharm": {
     "name": "#%% md\n"
    }
   },
   "source": [
    "## Normalization"
   ]
  },
  {
   "cell_type": "code",
   "execution_count": 19,
   "metadata": {
    "pycharm": {
     "name": "#%%\n"
    }
   },
   "outputs": [],
   "source": [
    "def Normalization(x, y):\n",
    "    max_x, max_y = np.max(x), np.max(y)\n",
    "    min_x, min_y = np.min(x), np.min(y)\n",
    "    S_x = (max_x-min_x)\n",
    "    S_y = (max_y-min_y)\n",
    "    S = max(S_x, S_y)\n",
    "    new_x, new_y = (x-min_x)/S, (y-min_y)/S\n",
    "    data_xy = np.vstack((new_x, new_y))\n",
    "    Data = data_xy.T\n",
    "    return new_x, new_y, S"
   ]
  },
  {
   "cell_type": "code",
   "execution_count": 20,
   "metadata": {
    "pycharm": {
     "name": "#%%\n"
    }
   },
   "outputs": [],
   "source": [
    "ls_X = np.array(ls['POINT_X'])\n",
    "ls_Y = np.array(ls['POINT_Y'])\n",
    "bbs_X = np.array(sitedf['POINT_X'])\n",
    "bbs_Y = np.array(sitedf['POINT_Y'])\n",
    "X = np.concatenate([ls_X, bbs_X])\n",
    "Y = np.concatenate([ls_Y, bbs_Y])\n",
    "NORM_X, NORM_Y, S = Normalization(X, Y)\n",
    "ls['NORM_X'] = NORM_X[:len(ls)]\n",
    "ls['NORM_Y'] = NORM_Y[:len(ls)]\n",
    "sitedf['NORM_X'] = NORM_X[len(ls):]\n",
    "sitedf['NORM_Y'] = NORM_Y[len(ls):]"
   ]
  },
  {
   "cell_type": "markdown",
   "metadata": {
    "pycharm": {
     "name": "#%% md\n"
    }
   },
   "source": [
    "### Visualization of the input data"
   ]
  },
  {
   "cell_type": "code",
   "execution_count": 21,
   "metadata": {
    "pycharm": {
     "name": "#%%\n"
    }
   },
   "outputs": [],
   "source": [
    "def render_scale_bar(ax, x, y, segments=2, height=0.01, seg_length=2000, unit='m', linewidth=1.):\n",
    "    unit_scale_factor = {\n",
    "        'm': 1,\n",
    "        'km': 1000,\n",
    "        'meters': 1,\n",
    "        'kilometers': 1000,\n",
    "        'miles': 1609.34,\n",
    "        'mi': 1609.34,\n",
    "        'ft': 0.3,\n",
    "        }\n",
    "    x_lim = ax.get_xlim()\n",
    "    y_lim = ax.get_ylim()\n",
    "\n",
    "    # how much percent does one unit takes on the x axis\n",
    "    x_per_unit = 1. / (x_lim[1] - x_lim[0])\n",
    "    y_per_unit = 1. / (y_lim[1] - y_lim[0])\n",
    "\n",
    "    # base for ticks (0, 1)\n",
    "    x_base = [x + seg_length * unit_scale_factor[unit] * x_per_unit * i for i in range(0, segments + 1)]\n",
    "    ax.axhline(y_lim[0] + y / y_per_unit, x_base[0], x_base[-1], c='black')\n",
    "    y_base = [y, y + height]\n",
    "    for i in range(segments + 1):\n",
    "        ax.axvline(x_lim[0] + x_base[i] / x_per_unit, y, y + height, c='black')\n",
    "        xy = (x_lim[0] + x_base[i] / x_per_unit, y_lim[0] + (y - 0.015) / y_per_unit)  # data_coords\n",
    "        ax.text(xy[0], xy[1], s='{}'.format(int(seg_length * i)), horizontalalignment='center', verticalalignment='center')\n",
    "    ax.text(x_lim[0] + (x_base[-1] + 0.02) / x_per_unit, y_lim[0] + (y - 0.015) / y_per_unit,\n",
    "            s=unit, horizontalalignment='left',\n",
    "            verticalalignment='center')"
   ]
  },
  {
   "cell_type": "code",
   "execution_count": 22,
   "metadata": {
    "pycharm": {
     "name": "#%%\n"
    }
   },
   "outputs": [],
   "source": [
    "def render_north_arrow(ax, x, y, size, ratio = 1):\n",
    "    path = [(0, 1), (-ratio, -1), (0, -0.5), (ratio, -1), (0, 1)]\n",
    "    path = [(i[0] * size + x, i[1] * size + y) for i in path]\n",
    "    arrow = plt.Polygon(path, color='black', transform=ax.transAxes)\n",
    "    ax.add_patch(arrow)\n",
    "    ax.text(x, y-size*2, s = 'N', horizontalalignment='center', verticalalignment='center', transform=ax.transAxes)"
   ]
  },
  {
   "cell_type": "code",
   "execution_count": 23,
   "metadata": {
    "pycharm": {
     "name": "#%%\n"
    }
   },
   "outputs": [],
   "source": [
    "sitedf1 = sitedf[sitedf['POINT_X'] < max(ls['POINT_X'])]\n",
    "sitedf1 = sitedf1[sitedf1['POINT_X'] > min(ls['POINT_X'])]\n",
    "sitedf1 = sitedf1[sitedf1['POINT_Y'] < max(ls['POINT_Y'])]\n",
    "sitedf1 = sitedf1[sitedf1['POINT_Y'] > min(ls['POINT_Y'])]"
   ]
  },
  {
   "cell_type": "code",
   "execution_count": 24,
   "metadata": {
    "pycharm": {
     "name": "#%%\n"
    }
   },
   "outputs": [
    {
     "name": "stdout",
     "output_type": "stream",
     "text": [
      "Wall time: 93.8 ms\n"
     ]
    },
    {
     "data": {
      "text/plain": [
       "<matplotlib.legend.Legend at 0x1d98c0f9348>"
      ]
     },
     "execution_count": 24,
     "metadata": {},
     "output_type": "execute_result"
    },
    {
     "data": {
      "image/png": "[encoded data removed]",
      "text/plain": [
       "<Figure size 2000x1800 with 1 Axes>"
      ]
     },
     "metadata": {},
     "output_type": "display_data"
    }
   ],
   "source": [
    "%%time\n",
    "fig, ax = plt.subplots(figsize=(20,18))\n",
    "\n",
    "ls.plot(ax = ax, column=ls['speed_pct_freeflow_rev'], k=5, markersize=20, cmap='Blues', label = 'LandScan')\n",
    "ax.scatter(sitedf1['POINT_X'], sitedf1['POINT_Y'], c='C1', s=2, label = 'Billboards')\n",
    "\n",
    "ax.axis('scaled')\n",
    "ax.tick_params(axis='both', left=False, top=False, right=False,\n",
    "               bottom=False, labelleft=False, labeltop=False,\n",
    "               labelright=False, labelbottom=False)\n",
    "\n",
    "ax.set_title(\"Input Data\", fontsize=20)\n",
    "render_scale_bar(ax = ax, x=0.05, y=0.05)\n",
    "render_north_arrow(ax = ax, x = 0.95, y = 0.95, size = 0.01, ratio = 0.7)\n",
    "ax.legend(loc='lower right', markerscale = 1)"
   ]
  },
  {
   "cell_type": "code",
   "execution_count": 25,
   "metadata": {
    "pycharm": {
     "name": "#%%\n"
    }
   },
   "outputs": [],
   "source": [
    "def generate_candidate_sites(sites, M=100, heuristic=None):\n",
    "    '''\n",
    "    Generate M candidate sites with the convex hull of a point set\n",
    "    Input:\n",
    "        sites: a Pandas DataFrame with X, Y and other characteristic\n",
    "        M: the number of candidate sites to generate\n",
    "        heuristic:\n",
    "    Return:\n",
    "        sites: a Numpy array with shape of (M,2)\n",
    "    '''\n",
    "    if M is not None:\n",
    "        if M > len(sites):\n",
    "            M = None\n",
    "    if heuristic is None or heuristic == '':\n",
    "        if M is None:\n",
    "            return sites\n",
    "        index = np.random.choice(len(sites), M)\n",
    "        return sites.iloc[index]\n",
    "    elif heuristic == 'coverage':\n",
    "        sites = sites.sort_values(by='pop_covered_2km', ascending=False).reset_index()\n",
    "        if M is None:\n",
    "            return sites\n",
    "        return sites.iloc[:M]\n",
    "    elif heuristic == 'coverage_e':\n",
    "        sites = sites.sort_values(by='pop_covered_2km_exclusive', ascending=False).reset_index()\n",
    "        if M is None:\n",
    "            return sites\n",
    "        return sites.iloc[:M]\n",
    "    elif heuristic == 'impression':\n",
    "        sites = sites.sort_values(by='weeklyImpr', ascending=False).reset_index()\n",
    "        if M is None:\n",
    "            return sites\n",
    "        return sites.iloc[:M]\n",
    "    elif heuristic == 'impression_e':\n",
    "        sites = sites.sort_values(by='weeklyImpr_2km_exclusive', ascending=False).reset_index()\n",
    "        if M is None:\n",
    "            return sites\n",
    "        return sites.iloc[:M]"
   ]
  },
  {
   "cell_type": "code",
   "execution_count": 26,
   "metadata": {
    "pycharm": {
     "name": "#%%\n"
    }
   },
   "outputs": [],
   "source": [
    "bbs_ = generate_candidate_sites(sitedf, M=None, heuristic=\"\")"
   ]
  },
  {
   "cell_type": "code",
   "execution_count": 27,
   "metadata": {
    "pycharm": {
     "name": "#%%\n"
    }
   },
   "outputs": [
    {
     "name": "stdout",
     "output_type": "stream",
     "text": [
      "Wall time: 78.1 ms\n"
     ]
    },
    {
     "data": {
      "text/plain": [
       "<matplotlib.legend.Legend at 0x1d9963ac6c8>"
      ]
     },
     "execution_count": 27,
     "metadata": {},
     "output_type": "execute_result"
    },
    {
     "data": {
      "image/png": "[encoded data removed]",
      "text/plain": [
       "<Figure size 2000x1800 with 1 Axes>"
      ]
     },
     "metadata": {},
     "output_type": "display_data"
    }
   ],
   "source": [
    "%%time\n",
    "fig, ax = plt.subplots(figsize=(20,18))\n",
    "# ax.scatter(ls['POINT_X'],ls['POINT_Y'], color='Blue', s=ls['speed_pct_freeflow_rev'])\n",
    "ls.plot(ax = ax, column=ls['speed_pct_freeflow_rev'], k=5, markersize=20, cmap='Blues', label = 'LandScan')\n",
    "ax.scatter(bbs_['POINT_X'], bbs_['POINT_Y'], c='C1', s=2, label = 'Billboards')\n",
    "\n",
    "ax.axis('scaled')\n",
    "ax.tick_params(axis='both', left=False, top=False, right=False,\n",
    "               bottom=False, labelleft=False, labeltop=False,\n",
    "               labelright=False, labelbottom=False)\n",
    "\n",
    "ax.set_title(\"Input Data\", fontsize=20)\n",
    "render_scale_bar(ax = ax, x=0.05, y=0.05)\n",
    "render_north_arrow(ax = ax, x = 0.95, y = 0.95, size = 0.01, ratio = 0.7)\n",
    "ax.legend(loc='lower right', markerscale = 1)"
   ]
  },
  {
   "cell_type": "code",
   "execution_count": 99,
   "metadata": {
    "pycharm": {
     "name": "#%%\n"
    }
   },
   "outputs": [],
   "source": [
    "def gen_real_data(ls, num_sample):\n",
    "    real_datasets = []\n",
    "    for i in range(num_sample):\n",
    "        bbs_ = generate_candidate_sites(sitedf, M=50, heuristic=\"\")\n",
    "        real_data = {}\n",
    "        real_data[\"users\"] = torch.tensor(np.array(ls[['NORM_X', 'NORM_Y']])).to(torch.float32)\n",
    "        real_data[\"facilities\"] = torch.tensor(np.array(bbs_[['NORM_X', 'NORM_Y']])).to(torch.float32)\n",
    "        real_data['demand'] = torch.tensor(np.array(ls['speed_pct_freeflow_rev_norm'])).to(torch.float32)\n",
    "        real_data[\"p\"] = 15\n",
    "        real_data[\"r\"] = 2000/S\n",
    "        real_datasets.append(real_data)\n",
    "    return bbs_, real_datasets"
   ]
  },
  {
   "cell_type": "code",
   "execution_count": 100,
   "metadata": {
    "pycharm": {
     "name": "#%%\n"
    }
   },
   "outputs": [],
   "source": [
    "num_sample = 100\n",
    "opts.eval_batch_size = 50\n",
    "opts.max_calc_batch_size = 1280000\n",
    "width = 128\n",
    "bbs_, real_datasets = gen_real_data(ls, num_sample)"
   ]
  },
  {
   "cell_type": "code",
   "execution_count": 100,
   "metadata": {
    "pycharm": {
     "name": "#%%\n"
    }
   },
   "outputs": [],
   "source": []
  },
  {
   "cell_type": "code",
   "execution_count": 101,
   "metadata": {
    "pycharm": {
     "name": "#%%\n"
    }
   },
   "outputs": [],
   "source": [
    "from torch.utils.data import DataLoader\n",
    "from tqdm import tqdm\n",
    "opts.decode_strategy = 'sampling'\n",
    "model.eval()\n",
    "model.set_decode_type(\n",
    "    \"greedy\" if opts.decode_strategy in ('bs', 'greedy') else \"sampling\")\n",
    "dataloader = DataLoader(real_datasets, batch_size=opts.eval_batch_size)\n"
   ]
  },
  {
   "cell_type": "code",
   "execution_count": 102,
   "metadata": {
    "pycharm": {
     "name": "#%%\n"
    }
   },
   "outputs": [],
   "source": [
    "def get_best(sequences, cost, ids=None, batch_size=None):\n",
    "    \"\"\"\n",
    "    Ids contains [0, 0, 0, 1, 1, 2, ..., n, n, n] if 3 solutions found for 0th instance, 2 for 1st, etc\n",
    "    :param sequences:\n",
    "    :param lengths:\n",
    "    :param ids:\n",
    "    :return: list with n sequences and list with n lengths of solutions\n",
    "    \"\"\"\n",
    "    if ids is None:\n",
    "        idx = cost.argmin()\n",
    "        return sequences[idx:idx+1, ...], cost[idx:idx+1, ...]\n",
    "\n",
    "    splits = np.hstack([0, np.where(ids[:-1] != ids[1:])[0] + 1])\n",
    "    mincosts = np.minimum.reduceat(cost, splits)\n",
    "\n",
    "    group_lengths = np.diff(np.hstack([splits, len(ids)]))\n",
    "    all_argmin = np.flatnonzero(np.repeat(mincosts, group_lengths) == cost)\n",
    "    result = np.full(len(group_lengths) if batch_size is None else batch_size, -1, dtype=int)\n",
    "\n",
    "    result[ids[all_argmin[::-1]]] = all_argmin[::-1]\n",
    "\n",
    "    return [sequences[i] if i >= 0 else None for i in result], [cost[i] if i >= 0 else math.inf for i in result]"
   ]
  },
  {
   "cell_type": "code",
   "execution_count": 103,
   "metadata": {
    "pycharm": {
     "name": "#%%\n"
    }
   },
   "outputs": [],
   "source": [
    "results = []\n",
    "for batch in tqdm(dataloader, disable=True):\n",
    "    batch = move_to(batch, opts.device)\n",
    "    start = time.time()\n",
    "    with torch.no_grad():\n",
    "        if opts.decode_strategy in ('sampling', 'greedy'):\n",
    "            if opts.decode_strategy == 'greedy':\n",
    "                assert width == 0, \"Do not set width when using greedy\"\n",
    "                assert opts.eval_batch_size <= opts.max_calc_batch_size, \\\n",
    "                    \"eval_batch_size should be smaller than calc batch size\"\n",
    "                batch_rep = 1\n",
    "                iter_rep = 1\n",
    "            elif width * opts.eval_batch_size > opts.max_calc_batch_size:\n",
    "                assert opts.eval_batch_size == 1\n",
    "                assert width % opts.max_calc_batch_size == 0\n",
    "                batch_rep = opts.max_calc_batch_size\n",
    "                iter_rep = width // opts.max_calc_batch_size\n",
    "            else:\n",
    "                batch_rep = width\n",
    "                iter_rep = 1\n",
    "            assert batch_rep > 0\n",
    "            # This returns (batch_size, iter_rep shape)\n",
    "\n",
    "            sequences, costs = model.sample_many(batch, batch_rep=batch_rep, iter_rep=iter_rep)\n",
    "            batch_size = len(costs)\n",
    "            ids = torch.arange(batch_size, dtype=torch.int64, device=costs.device)\n",
    "#         else:\n",
    "#             # assert opts.decode_strategy == 'bs'\n",
    "\n",
    "#             cum_log_p, sequences, costs, ids, batch_size = model.beam_search(\n",
    "#                 batch, beam_size=width,\n",
    "#                 compress_mask=opts.compress_mask,\n",
    "#                 max_calc_batch_size=opts.max_calc_batch_size\n",
    "#             )\n",
    "            if sequences is None:\n",
    "                sequences = [None] * batch_size\n",
    "                costs = [math.inf] * batch_size\n",
    "            else:\n",
    "                sequences, costs = get_best(\n",
    "                    sequences.cpu().numpy(), costs.cpu().numpy(),\n",
    "                    ids.cpu().numpy() if ids is not None else None,\n",
    "                    batch_size\n",
    "                )\n",
    "            duration = time.time() - start\n",
    "            for seq, cost in zip(sequences, costs):\n",
    "                seq = seq.tolist()\n",
    "                results.append((cost, seq, duration))\n",
    "costs, tours, durations = zip(*results)"
   ]
  },
  {
   "cell_type": "code",
   "execution_count": 104,
   "metadata": {
    "pycharm": {
     "name": "#%%\n"
    }
   },
   "outputs": [
    {
     "data": {
      "text/plain": [
       "{'users': tensor([[[0.1348, 1.0000],\n",
       "          [0.1573, 1.0000],\n",
       "          [0.1798, 1.0000],\n",
       "          [0.2022, 1.0000],\n",
       "          [0.2247, 1.0000],\n",
       "          [0.2472, 1.0000],\n",
       "          [0.2697, 1.0000],\n",
       "          [0.2921, 1.0000],\n",
       "          [0.3146, 1.0000],\n",
       "          [0.1348, 0.9666],\n",
       "          [0.1573, 0.9666],\n",
       "          [0.1798, 0.9666],\n",
       "          [0.2022, 0.9666],\n",
       "          [0.2247, 0.9666],\n",
       "          [0.2472, 0.9666],\n",
       "          [0.2697, 0.9666],\n",
       "          [0.3146, 0.9666],\n",
       "          [0.3371, 0.9666],\n",
       "          [0.1124, 0.9332],\n",
       "          [0.1348, 0.9332],\n",
       "          [0.1573, 0.9332],\n",
       "          [0.1798, 0.9332],\n",
       "          [0.2022, 0.9332],\n",
       "          [0.2247, 0.9332],\n",
       "          [0.2472, 0.9332],\n",
       "          [0.2697, 0.9332],\n",
       "          [0.2921, 0.9332],\n",
       "          [0.3146, 0.9332],\n",
       "          [0.3371, 0.9332],\n",
       "          [0.1348, 0.8998],\n",
       "          [0.1573, 0.8998],\n",
       "          [0.1798, 0.8998],\n",
       "          [0.2022, 0.8998],\n",
       "          [0.2247, 0.8998],\n",
       "          [0.2472, 0.8998],\n",
       "          [0.2697, 0.8998],\n",
       "          [0.2921, 0.8998],\n",
       "          [0.3146, 0.8998],\n",
       "          [0.3371, 0.8998],\n",
       "          [0.3595, 0.8998],\n",
       "          [0.0899, 0.8664],\n",
       "          [0.1124, 0.8664],\n",
       "          [0.1348, 0.8664],\n",
       "          [0.1573, 0.8664],\n",
       "          [0.1798, 0.8664],\n",
       "          [0.2022, 0.8664],\n",
       "          [0.2247, 0.8664],\n",
       "          [0.2472, 0.8664],\n",
       "          [0.2697, 0.8664],\n",
       "          [0.2921, 0.8664],\n",
       "          [0.3146, 0.8664],\n",
       "          [0.3371, 0.8664],\n",
       "          [0.3595, 0.8664],\n",
       "          [0.0225, 0.8330],\n",
       "          [0.0449, 0.8330],\n",
       "          [0.0674, 0.8330],\n",
       "          [0.0899, 0.8330],\n",
       "          [0.1124, 0.8330],\n",
       "          [0.1348, 0.8330],\n",
       "          [0.1573, 0.8330],\n",
       "          [0.1798, 0.8330],\n",
       "          [0.2022, 0.8330],\n",
       "          [0.2247, 0.8330],\n",
       "          [0.2472, 0.8330],\n",
       "          [0.2697, 0.8330],\n",
       "          [0.2921, 0.8330],\n",
       "          [0.3146, 0.8330],\n",
       "          [0.3371, 0.8330],\n",
       "          [0.3595, 0.8330],\n",
       "          [0.3820, 0.8330],\n",
       "          [0.0225, 0.7996],\n",
       "          [0.0449, 0.7996],\n",
       "          [0.0674, 0.7996],\n",
       "          [0.0899, 0.7996],\n",
       "          [0.1124, 0.7996],\n",
       "          [0.1348, 0.7996],\n",
       "          [0.1573, 0.7996],\n",
       "          [0.1798, 0.7996],\n",
       "          [0.2022, 0.7996],\n",
       "          [0.2247, 0.7996],\n",
       "          [0.2472, 0.7996],\n",
       "          [0.2697, 0.7996],\n",
       "          [0.2921, 0.7996],\n",
       "          [0.3146, 0.7996],\n",
       "          [0.3371, 0.7996],\n",
       "          [0.3595, 0.7996],\n",
       "          [0.3820, 0.7996],\n",
       "          [0.4045, 0.7996],\n",
       "          [0.0225, 0.7662],\n",
       "          [0.0449, 0.7662],\n",
       "          [0.0674, 0.7662],\n",
       "          [0.0899, 0.7662],\n",
       "          [0.1124, 0.7662],\n",
       "          [0.1348, 0.7662],\n",
       "          [0.1573, 0.7662],\n",
       "          [0.1798, 0.7662],\n",
       "          [0.2247, 0.7662],\n",
       "          [0.2472, 0.7662],\n",
       "          [0.2697, 0.7662],\n",
       "          [0.2921, 0.7662],\n",
       "          [0.3146, 0.7662],\n",
       "          [0.3371, 0.7662],\n",
       "          [0.3595, 0.7662],\n",
       "          [0.3820, 0.7662],\n",
       "          [0.4045, 0.7662],\n",
       "          [0.0225, 0.7329],\n",
       "          [0.0449, 0.7329],\n",
       "          [0.0674, 0.7329],\n",
       "          [0.0899, 0.7329],\n",
       "          [0.1124, 0.7329],\n",
       "          [0.1348, 0.7329],\n",
       "          [0.1573, 0.7329],\n",
       "          [0.1798, 0.7329],\n",
       "          [0.2022, 0.7329],\n",
       "          [0.2247, 0.7329],\n",
       "          [0.2472, 0.7329],\n",
       "          [0.2697, 0.7329],\n",
       "          [0.2921, 0.7329],\n",
       "          [0.3146, 0.7329],\n",
       "          [0.3371, 0.7329],\n",
       "          [0.3595, 0.7329],\n",
       "          [0.3820, 0.7329],\n",
       "          [0.4045, 0.7329],\n",
       "          [0.4270, 0.7329],\n",
       "          [0.0000, 0.6995],\n",
       "          [0.0225, 0.6995],\n",
       "          [0.0449, 0.6995],\n",
       "          [0.0674, 0.6995],\n",
       "          [0.0899, 0.6995],\n",
       "          [0.1124, 0.6995],\n",
       "          [0.1348, 0.6995],\n",
       "          [0.1573, 0.6995],\n",
       "          [0.1798, 0.6995],\n",
       "          [0.2022, 0.6995],\n",
       "          [0.2247, 0.6995],\n",
       "          [0.2472, 0.6995],\n",
       "          [0.2697, 0.6995],\n",
       "          [0.2921, 0.6995],\n",
       "          [0.3146, 0.6995],\n",
       "          [0.3371, 0.6995],\n",
       "          [0.3595, 0.6995],\n",
       "          [0.3820, 0.6995],\n",
       "          [0.4045, 0.6995],\n",
       "          [0.0225, 0.6661],\n",
       "          [0.0449, 0.6661],\n",
       "          [0.0674, 0.6661],\n",
       "          [0.0899, 0.6661],\n",
       "          [0.1124, 0.6661],\n",
       "          [0.1348, 0.6661],\n",
       "          [0.1573, 0.6661],\n",
       "          [0.1798, 0.6661],\n",
       "          [0.2022, 0.6661],\n",
       "          [0.2247, 0.6661],\n",
       "          [0.2472, 0.6661],\n",
       "          [0.2697, 0.6661],\n",
       "          [0.2921, 0.6661],\n",
       "          [0.3146, 0.6661],\n",
       "          [0.3371, 0.6661],\n",
       "          [0.3595, 0.6661],\n",
       "          [0.3820, 0.6661],\n",
       "          [0.0000, 0.6328],\n",
       "          [0.0225, 0.6328],\n",
       "          [0.0449, 0.6328],\n",
       "          [0.0674, 0.6328],\n",
       "          [0.0899, 0.6328],\n",
       "          [0.1124, 0.6328],\n",
       "          [0.1348, 0.6328],\n",
       "          [0.1573, 0.6328],\n",
       "          [0.1798, 0.6328],\n",
       "          [0.2022, 0.6328],\n",
       "          [0.2247, 0.6328],\n",
       "          [0.2472, 0.6328],\n",
       "          [0.2697, 0.6328],\n",
       "          [0.2921, 0.6328],\n",
       "          [0.3146, 0.6328],\n",
       "          [0.3371, 0.6328],\n",
       "          [0.3595, 0.6328],\n",
       "          [0.0000, 0.5994],\n",
       "          [0.0225, 0.5994],\n",
       "          [0.0449, 0.5994],\n",
       "          [0.0674, 0.5994],\n",
       "          [0.0899, 0.5994],\n",
       "          [0.1124, 0.5994],\n",
       "          [0.1348, 0.5994],\n",
       "          [0.1573, 0.5994],\n",
       "          [0.1798, 0.5994],\n",
       "          [0.2022, 0.5994],\n",
       "          [0.2247, 0.5994],\n",
       "          [0.2472, 0.5994],\n",
       "          [0.2697, 0.5994],\n",
       "          [0.2921, 0.5994],\n",
       "          [0.3146, 0.5994],\n",
       "          [0.3371, 0.5994],\n",
       "          [0.3595, 0.5994],\n",
       "          [0.0449, 0.5661],\n",
       "          [0.0674, 0.5661],\n",
       "          [0.0899, 0.5661],\n",
       "          [0.1124, 0.5661],\n",
       "          [0.1348, 0.5661],\n",
       "          [0.1573, 0.5661],\n",
       "          [0.1798, 0.5661],\n",
       "          [0.2022, 0.5661],\n",
       "          [0.2247, 0.5661],\n",
       "          [0.2472, 0.5661],\n",
       "          [0.2697, 0.5661],\n",
       "          [0.2921, 0.5661],\n",
       "          [0.3146, 0.5661],\n",
       "          [0.3371, 0.5661],\n",
       "          [0.1348, 0.5327],\n",
       "          [0.1573, 0.5327],\n",
       "          [0.1798, 0.5327],\n",
       "          [0.2022, 0.5327],\n",
       "          [0.2247, 0.5327],\n",
       "          [0.2472, 0.5327],\n",
       "          [0.2697, 0.5327],\n",
       "          [0.2921, 0.5327],\n",
       "          [0.3146, 0.5327],\n",
       "          [0.3371, 0.5327],\n",
       "          [0.3595, 0.5327],\n",
       "          [0.1573, 0.4994],\n",
       "          [0.1798, 0.4994],\n",
       "          [0.2022, 0.4994],\n",
       "          [0.2247, 0.4994],\n",
       "          [0.2472, 0.4994],\n",
       "          [0.2697, 0.4994],\n",
       "          [0.2921, 0.4994],\n",
       "          [0.3146, 0.4994],\n",
       "          [0.3371, 0.4994],\n",
       "          [0.3595, 0.4994],\n",
       "          [0.2022, 0.4661],\n",
       "          [0.2247, 0.4661],\n",
       "          [0.2472, 0.4661],\n",
       "          [0.2697, 0.4661],\n",
       "          [0.2921, 0.4661],\n",
       "          [0.3146, 0.4661],\n",
       "          [0.3371, 0.4661],\n",
       "          [0.0674, 0.4327],\n",
       "          [0.2022, 0.4327],\n",
       "          [0.2247, 0.4327],\n",
       "          [0.2472, 0.4327],\n",
       "          [0.2697, 0.4327],\n",
       "          [0.2921, 0.4327],\n",
       "          [0.3146, 0.4327],\n",
       "          [0.3371, 0.4327],\n",
       "          [0.0449, 0.3994],\n",
       "          [0.0674, 0.3994],\n",
       "          [0.0899, 0.3994],\n",
       "          [0.2022, 0.3994],\n",
       "          [0.2247, 0.3994],\n",
       "          [0.2472, 0.3994],\n",
       "          [0.2697, 0.3994],\n",
       "          [0.2921, 0.3994],\n",
       "          [0.3146, 0.3994],\n",
       "          [0.3371, 0.3994],\n",
       "          [0.0000, 0.3661],\n",
       "          [0.0225, 0.3661],\n",
       "          [0.0449, 0.3661],\n",
       "          [0.0674, 0.3661],\n",
       "          [0.0899, 0.3661],\n",
       "          [0.1124, 0.3661],\n",
       "          [0.2022, 0.3661],\n",
       "          [0.2247, 0.3661],\n",
       "          [0.2472, 0.3661],\n",
       "          [0.2697, 0.3661],\n",
       "          [0.2921, 0.3661],\n",
       "          [0.3146, 0.3661],\n",
       "          [0.3371, 0.3661],\n",
       "          [0.3595, 0.3661],\n",
       "          [0.0000, 0.3328],\n",
       "          [0.0225, 0.3328],\n",
       "          [0.0449, 0.3328],\n",
       "          [0.0674, 0.3328],\n",
       "          [0.0899, 0.3328],\n",
       "          [0.1124, 0.3328],\n",
       "          [0.1348, 0.3328],\n",
       "          [0.1573, 0.3328],\n",
       "          [0.1798, 0.3328],\n",
       "          [0.2022, 0.3328],\n",
       "          [0.2247, 0.3328],\n",
       "          [0.2472, 0.3328],\n",
       "          [0.2697, 0.3328],\n",
       "          [0.2921, 0.3328],\n",
       "          [0.3146, 0.3328],\n",
       "          [0.3371, 0.3328],\n",
       "          [0.3595, 0.3328],\n",
       "          [0.3820, 0.3328],\n",
       "          [0.0225, 0.2995],\n",
       "          [0.0449, 0.2995],\n",
       "          [0.0674, 0.2995],\n",
       "          [0.0899, 0.2995],\n",
       "          [0.1124, 0.2995],\n",
       "          [0.1348, 0.2995],\n",
       "          [0.1573, 0.2995],\n",
       "          [0.2022, 0.2995],\n",
       "          [0.2247, 0.2995],\n",
       "          [0.2472, 0.2995],\n",
       "          [0.2697, 0.2995],\n",
       "          [0.2921, 0.2995],\n",
       "          [0.3146, 0.2995],\n",
       "          [0.3371, 0.2995],\n",
       "          [0.3595, 0.2995],\n",
       "          [0.3820, 0.2995],\n",
       "          [0.4045, 0.2995],\n",
       "          [0.0225, 0.2662],\n",
       "          [0.0449, 0.2662],\n",
       "          [0.0674, 0.2662],\n",
       "          [0.0899, 0.2662],\n",
       "          [0.1124, 0.2662],\n",
       "          [0.1348, 0.2662],\n",
       "          [0.1573, 0.2662],\n",
       "          [0.1798, 0.2662],\n",
       "          [0.2022, 0.2662],\n",
       "          [0.2247, 0.2662],\n",
       "          [0.2472, 0.2662],\n",
       "          [0.2697, 0.2662],\n",
       "          [0.2921, 0.2662],\n",
       "          [0.3146, 0.2662],\n",
       "          [0.3371, 0.2662],\n",
       "          [0.3595, 0.2662],\n",
       "          [0.3820, 0.2662],\n",
       "          [0.4045, 0.2662],\n",
       "          [0.0449, 0.2329],\n",
       "          [0.0674, 0.2329],\n",
       "          [0.0899, 0.2329],\n",
       "          [0.1124, 0.2329],\n",
       "          [0.1348, 0.2329],\n",
       "          [0.1573, 0.2329],\n",
       "          [0.1798, 0.2329],\n",
       "          [0.2022, 0.2329],\n",
       "          [0.2247, 0.2329],\n",
       "          [0.2472, 0.2329],\n",
       "          [0.2697, 0.2329],\n",
       "          [0.2921, 0.2329],\n",
       "          [0.3146, 0.2329],\n",
       "          [0.3371, 0.2329],\n",
       "          [0.3595, 0.2329],\n",
       "          [0.3820, 0.2329],\n",
       "          [0.4045, 0.2329],\n",
       "          [0.0449, 0.1996],\n",
       "          [0.0674, 0.1996],\n",
       "          [0.0899, 0.1996],\n",
       "          [0.1124, 0.1996],\n",
       "          [0.1348, 0.1996],\n",
       "          [0.1573, 0.1996],\n",
       "          [0.1798, 0.1996],\n",
       "          [0.2022, 0.1996],\n",
       "          [0.2247, 0.1996],\n",
       "          [0.2472, 0.1996],\n",
       "          [0.2697, 0.1996],\n",
       "          [0.2921, 0.1996],\n",
       "          [0.3146, 0.1996],\n",
       "          [0.3371, 0.1996],\n",
       "          [0.3595, 0.1996],\n",
       "          [0.3820, 0.1996],\n",
       "          [0.0449, 0.1663],\n",
       "          [0.0674, 0.1663],\n",
       "          [0.0899, 0.1663],\n",
       "          [0.1124, 0.1663],\n",
       "          [0.1348, 0.1663],\n",
       "          [0.1573, 0.1663],\n",
       "          [0.1798, 0.1663],\n",
       "          [0.2022, 0.1663],\n",
       "          [0.2247, 0.1663],\n",
       "          [0.2472, 0.1663],\n",
       "          [0.2697, 0.1663],\n",
       "          [0.3146, 0.1663],\n",
       "          [0.3371, 0.1663],\n",
       "          [0.3595, 0.1663],\n",
       "          [0.3820, 0.1663],\n",
       "          [0.4045, 0.1663],\n",
       "          [0.0449, 0.1331],\n",
       "          [0.0674, 0.1331],\n",
       "          [0.0899, 0.1331],\n",
       "          [0.1124, 0.1331],\n",
       "          [0.1348, 0.1331],\n",
       "          [0.1573, 0.1331],\n",
       "          [0.1798, 0.1331],\n",
       "          [0.2022, 0.1331],\n",
       "          [0.2247, 0.1331],\n",
       "          [0.2472, 0.1331],\n",
       "          [0.2697, 0.1331],\n",
       "          [0.2921, 0.1331],\n",
       "          [0.3146, 0.1331],\n",
       "          [0.3371, 0.1331],\n",
       "          [0.3595, 0.1331],\n",
       "          [0.3820, 0.1331],\n",
       "          [0.4045, 0.1331],\n",
       "          [0.4270, 0.1331],\n",
       "          [0.0674, 0.0998],\n",
       "          [0.0899, 0.0998],\n",
       "          [0.1124, 0.0998],\n",
       "          [0.1573, 0.0998],\n",
       "          [0.1798, 0.0998],\n",
       "          [0.2022, 0.0998],\n",
       "          [0.2247, 0.0998],\n",
       "          [0.2472, 0.0998],\n",
       "          [0.2697, 0.0998],\n",
       "          [0.2921, 0.0998],\n",
       "          [0.3371, 0.0998],\n",
       "          [0.3595, 0.0998],\n",
       "          [0.3820, 0.0998],\n",
       "          [0.4045, 0.0998],\n",
       "          [0.4270, 0.0998],\n",
       "          [0.4494, 0.0998],\n",
       "          [0.4719, 0.0998],\n",
       "          [0.0674, 0.0665],\n",
       "          [0.0899, 0.0665],\n",
       "          [0.1124, 0.0665],\n",
       "          [0.2022, 0.0665],\n",
       "          [0.2247, 0.0665],\n",
       "          [0.2472, 0.0665],\n",
       "          [0.2697, 0.0665],\n",
       "          [0.2921, 0.0665],\n",
       "          [0.3146, 0.0665],\n",
       "          [0.3595, 0.0665],\n",
       "          [0.3820, 0.0665],\n",
       "          [0.4045, 0.0665],\n",
       "          [0.4270, 0.0665],\n",
       "          [0.4944, 0.0665],\n",
       "          [0.2697, 0.0333],\n",
       "          [0.2921, 0.0333],\n",
       "          [0.3146, 0.0333],\n",
       "          [0.3820, 0.0333],\n",
       "          [0.4045, 0.0333],\n",
       "          [0.4494, 0.0333],\n",
       "          [0.4719, 0.0333],\n",
       "          [0.4719, 0.0000],\n",
       "          [0.4944, 0.0000]]]),\n",
       " 'facilities': tensor([[[0.0920, 0.3023],\n",
       "          [0.1505, 0.5804],\n",
       "          [0.1533, 0.8535],\n",
       "          [0.2623, 0.1220],\n",
       "          [0.2896, 0.8408],\n",
       "          [0.2389, 0.4321],\n",
       "          [0.2222, 0.5115],\n",
       "          [0.1952, 0.3283],\n",
       "          [0.1555, 0.1001],\n",
       "          [0.2103, 0.3345],\n",
       "          [0.1894, 0.8694],\n",
       "          [0.2340, 0.3320],\n",
       "          [0.1150, 0.7048],\n",
       "          [0.1831, 0.9336],\n",
       "          [0.1805, 0.9466],\n",
       "          [0.2106, 0.4590],\n",
       "          [0.2418, 0.2081],\n",
       "          [0.3109, 0.4469],\n",
       "          [0.2106, 0.2962],\n",
       "          [0.2625, 0.2433],\n",
       "          [0.2160, 0.5191],\n",
       "          [0.2059, 0.3344],\n",
       "          [0.2575, 0.4357],\n",
       "          [0.0975, 0.5802],\n",
       "          [0.2229, 0.2821],\n",
       "          [0.1894, 0.8694],\n",
       "          [0.1794, 0.5231],\n",
       "          [0.1952, 0.3283],\n",
       "          [0.2623, 0.1220],\n",
       "          [0.2998, 0.8869],\n",
       "          [0.2326, 0.4308],\n",
       "          [0.2244, 0.2843],\n",
       "          [0.1222, 0.5535],\n",
       "          [0.2875, 0.8323],\n",
       "          [0.1325, 0.6784],\n",
       "          [0.2847, 0.4460],\n",
       "          [0.3109, 0.4469],\n",
       "          [0.2497, 0.1356],\n",
       "          [0.2241, 0.3870],\n",
       "          [0.1811, 0.9813],\n",
       "          [0.2673, 0.4444],\n",
       "          [0.3826, 0.2072],\n",
       "          [0.2130, 0.2410],\n",
       "          [0.1794, 0.5231],\n",
       "          [0.0987, 0.6178],\n",
       "          [0.0920, 0.3023],\n",
       "          [0.0972, 0.7463],\n",
       "          [0.0920, 0.3023],\n",
       "          [0.3338, 0.2619],\n",
       "          [0.2234, 0.3155]]]),\n",
       " 'demand': tensor([[ 1.9130,  3.8696,  4.9130,  2.3043,  3.8696,  4.1304,  4.1304,  3.2174,\n",
       "           3.4783,  2.3043,  3.3478,  3.8696,  3.0870,  2.6957,  2.1739,  3.6087,\n",
       "           3.3478,  5.5652,  1.0000,  2.4348,  3.4783,  4.2609,  3.6087,  3.4783,\n",
       "           3.2174,  3.8696,  3.2174,  4.1304,  3.7391,  2.8261,  2.6957,  3.4783,\n",
       "           3.0870,  3.4783,  3.4783,  3.2174,  3.8696,  3.2174,  3.4783,  2.9565,\n",
       "           2.8261,  2.3043,  3.7391,  3.4783,  3.6087,  3.2174,  3.6087,  3.8696,\n",
       "           3.3478,  2.9565,  2.1739,  3.0870,  3.0870,  1.3913,  1.3913,  2.5652,\n",
       "           2.8261,  2.6957,  2.8261,  3.0870,  3.6087,  3.4783,  3.2174,  4.2609,\n",
       "           2.9565,  2.9565,  2.3043,  3.3478,  2.9565,  2.8261,  2.5652,  2.3043,\n",
       "           3.0870,  3.6087,  3.2174,  4.0000,  4.1304,  4.1304,  4.1304,  3.3478,\n",
       "           3.6087,  3.7391,  3.0870,  2.9565,  3.4783,  2.1739,  5.0435,  2.9565,\n",
       "           2.0435,  2.9565,  3.7391,  4.0000,  3.2174,  3.3478,  4.0000,  3.4783,\n",
       "           3.4783,  3.4783,  4.0000,  3.6087,  3.2174,  3.2174,  2.4348,  2.4348,\n",
       "           4.1304,  2.3043,  3.4783,  4.1304,  3.8696,  3.4783,  3.4783,  3.2174,\n",
       "           2.8261,  3.4783,  2.6957,  3.4783,  3.4783,  3.2174,  3.4783,  3.4783,\n",
       "           2.8261,  2.9565,  3.3478, 10.0000,  3.3478,  2.5652,  2.3043,  2.8261,\n",
       "           3.7391,  4.1304,  3.3478,  3.2174,  3.6087,  4.1304,  4.0000,  4.3913,\n",
       "           4.6522,  3.8696,  4.1304,  3.6087,  3.0870,  6.3478,  1.9130,  2.6957,\n",
       "           2.1739,  2.9565,  3.3478,  2.8261,  4.0000,  4.0000,  3.6087,  3.7391,\n",
       "           3.2174,  3.6087,  4.6522,  4.2609,  3.6087,  2.3043,  2.6957,  9.3478,\n",
       "           2.4348,  2.1739,  2.1739,  2.9565,  3.7391,  3.0870,  2.8261,  3.7391,\n",
       "           4.0000,  3.0870,  3.6087,  3.4783,  2.5652,  4.2609,  2.8261,  2.6957,\n",
       "           2.4348,  2.8261,  2.6957,  2.5652,  2.5652,  3.4783,  2.9565,  3.0870,\n",
       "           3.4783,  2.8261,  2.4348,  3.7391,  3.4783,  2.6957,  3.2174,  2.6957,\n",
       "           2.3043,  3.3478,  2.8261,  2.5652,  2.6957,  3.3478,  3.4783,  4.3913,\n",
       "           4.1304,  5.3043,  3.8696,  3.3478,  3.3478,  3.4783,  2.8261,  3.0870,\n",
       "           3.8696,  4.3913,  4.6522,  5.1739,  4.0000,  4.3913,  3.8696,  4.1304,\n",
       "           3.8696,  2.6957,  2.0435,  4.1304,  3.7391,  5.0435,  4.6522,  4.9130,\n",
       "           4.1304,  3.7391,  3.7391,  2.8261,  2.3043,  5.0435,  4.9130,  4.2609,\n",
       "           3.7391,  3.6087,  4.2609,  3.0870,  3.6087,  3.6087,  4.5217,  3.6087,\n",
       "           3.6087,  3.6087,  3.7391,  2.5652,  3.8696,  3.3478,  4.1304,  4.3913,\n",
       "           4.0000,  3.0870,  2.9565,  3.4783,  2.9565,  2.3043,  2.8261,  2.6957,\n",
       "           2.5652,  4.6522,  4.2609,  3.2174,  3.4783,  3.8696,  3.0870,  4.2609,\n",
       "           3.3478,  3.7391,  2.6957,  2.4348,  2.3043,  2.6957,  2.5652,  3.3478,\n",
       "           2.6957,  3.0870,  3.7391,  2.6957,  3.0870,  3.8696,  3.8696,  2.6957,\n",
       "           4.2609,  4.5217,  3.7391,  3.2174,  3.0870,  2.1739,  2.5652,  2.6957,\n",
       "           3.7391,  4.0000,  4.0000,  3.7391,  1.2609,  4.0000,  3.8696,  2.0435,\n",
       "           4.0000,  4.2609,  3.4783,  4.0000,  2.9565,  2.5652,  2.1739,  2.5652,\n",
       "           2.6957,  3.0870,  2.9565,  2.8261,  3.2174,  2.3043,  1.3913,  3.3478,\n",
       "           3.2174,  3.8696,  3.7391,  3.6087,  2.9565,  3.7391,  3.7391,  3.0870,\n",
       "           2.3043,  1.9130,  3.2174,  3.3478,  3.2174,  2.9565,  2.9565,  1.5217,\n",
       "           3.7391,  4.0000,  3.2174,  3.6087,  3.6087,  3.4783,  3.6087,  3.8696,\n",
       "           3.7391,  4.6522,  2.6957,  2.8261,  3.3478,  2.9565,  3.0870,  3.2174,\n",
       "           3.3478,  2.9565,  4.9130,  3.8696,  3.4783,  2.0435,  3.4783,  3.0870,\n",
       "           3.8696,  3.4783,  3.2174,  2.4348,  3.2174,  2.8261,  3.4783,  2.8261,\n",
       "           3.0870,  2.3043,  3.2174,  4.0000,  3.8696,  1.5217,  2.8261,  3.2174,\n",
       "           3.2174,  3.3478,  2.5652,  2.8261,  3.7391,  3.4783,  3.2174,  3.7391,\n",
       "           2.9565,  3.3478,  1.3913,  2.5652,  2.8261,  2.5652,  1.5217,  1.6522,\n",
       "           3.4783,  3.6087,  3.7391,  2.0435,  1.7826,  2.5652,  2.5652,  2.9565,\n",
       "           2.4348,  2.8261,  2.3043,  1.6522,  2.3043,  1.7826,  2.1739,  2.9565,\n",
       "           2.9565,  2.9565,  2.9565,  2.3043,  1.9130,  2.0435,  3.2174,  2.5652,\n",
       "           2.5652,  2.3043,  2.5652,  1.9130,  1.3913,  1.6522,  4.1304,  2.5652,\n",
       "           2.0435,  2.9565,  3.2174,  2.0435,  2.3043,  2.4348,  1.7826,  2.0435,\n",
       "           3.2174,  2.1739,  2.6957,  3.3478]]),\n",
       " 'p': tensor([15]),\n",
       " 'r': tensor([0.0484], dtype=torch.float64)}"
      ]
     },
     "execution_count": 104,
     "metadata": {},
     "output_type": "execute_result"
    }
   ],
   "source": [
    "from torch.utils.data import DataLoader\n",
    "\n",
    "instance = next(iter(DataLoader(real_datasets, batch_size = 1)))\n",
    "instance"
   ]
  },
  {
   "cell_type": "code",
   "execution_count": 105,
   "metadata": {
    "pycharm": {
     "name": "#%%\n"
    }
   },
   "outputs": [
    {
     "data": {
      "text/plain": [
       "array([49, 33, 30, 43, 34, 13, 45, 47,  3, 10, 20, 40,  6, 19, 41],\n",
       "      dtype=int64)"
      ]
     },
     "execution_count": 105,
     "metadata": {},
     "output_type": "execute_result"
    }
   ],
   "source": [
    "cost, _, solution = model(move_to(instance, opts.device), return_pi=True)\n",
    "solution = np.array(solution.squeeze(-1).cpu())[0]\n",
    "solution"
   ]
  },
  {
   "cell_type": "code",
   "execution_count": 106,
   "metadata": {
    "pycharm": {
     "name": "#%%\n"
    }
   },
   "outputs": [
    {
     "data": {
      "text/plain": [
       "tensor([-393.3478], device='cuda:0')"
      ]
     },
     "execution_count": 106,
     "metadata": {},
     "output_type": "execute_result"
    }
   ],
   "source": [
    "cost"
   ]
  },
  {
   "cell_type": "code",
   "execution_count": 107,
   "metadata": {
    "pycharm": {
     "name": "#%%\n"
    }
   },
   "outputs": [],
   "source": [
    "def plot_result(ls, opt_sites, radius):\n",
    "    '''\n",
    "    Plot the result\n",
    "    Input:\n",
    "        points: input points, Numpy array in shape of [N,2]\n",
    "        opt_sites: locations K optimal sites, Pandas DataFrame\n",
    "        radius: the radius of circle\n",
    "    '''\n",
    "    fig, ax = plt.subplots(figsize=(20, 15))\n",
    "    ls.plot(ax=ax, column=ls['speed_pct_freeflow_rev'], k=5, markersize=1, cmap='Blues', label='LandScan')\n",
    "    legend_plot_flag = {'current': False, 'selected': False}\n",
    "\n",
    "    for cnt, site in opt_sites.iterrows():\n",
    "        if 'current' in opt_sites.columns and site['current'] == True:  #ncurrent\n",
    "            if legend_plot_flag['current'] == False:\n",
    "                ax.scatter(site['POINT_X'], site['POINT_Y'], c='red', marker='+', s=1, label='Current Billboards')\n",
    "                circlelabel = 'Service Range for Current Billboards'\n",
    "                legend_plot_flag['current'] = True\n",
    "            ax.scatter(site['POINT_X'], site['POINT_Y'], c='red', marker='+', s=100)\n",
    "            #             circle = plt.Circle(site[['POINT_X','POINT_Y']], radius, color='red', fill=False, lw=2, label = circlelabel)\n",
    "            circle = plt.Circle(site[['POINT_X', 'POINT_Y']], radius, color='red', fill=False, lw=2)\n",
    "\n",
    "            ax.add_artist(circle)\n",
    "        else:\n",
    "            if legend_plot_flag['selected'] == False:\n",
    "                ax.scatter(site['POINT_X'], site['POINT_Y'], c='C1', marker='+', s=1,\n",
    "                           label='Optimized Selected Billboards')\n",
    "                circlelabel = 'Service Range for Optimized Selected Billboards'\n",
    "                legend_plot_flag['selected'] = True\n",
    "            ax.scatter(site['POINT_X'], site['POINT_Y'], c='C1', marker='+', s=100)\n",
    "            #             circle = plt.Circle(site[['POINT_X','POINT_Y']], radius, color='C1', fill=False, lw=2, label = circlelabel)\n",
    "            circle = plt.Circle(site[['POINT_X', 'POINT_Y']], radius, color='C1', fill=False, lw=2)\n",
    "            ax.add_artist(circle)\n",
    "\n",
    "    ax.axis('scaled')\n",
    "    ax.tick_params(axis='both', left=False, top=False, right=False,\n",
    "                   bottom=False, labelleft=False, labeltop=False,\n",
    "                   labelright=False, labelbottom=False)\n",
    "    title = 'Selected ' + str(len(opt_sites)) + ' Sites that Serve ' + str(radius) + ' m'\n",
    "    ax.set_title(title, fontsize=20)\n",
    "    render_scale_bar(ax=ax, x=0.05, y=0.05)\n",
    "    render_north_arrow(ax=ax, x=0.95, y=0.95, size=0.01, ratio=0.7)\n",
    "    ax.legend(loc='lower right', markerscale=10)\n",
    "    return ax"
   ]
  },
  {
   "cell_type": "code",
   "execution_count": 108,
   "metadata": {
    "pycharm": {
     "name": "#%%\n"
    }
   },
   "outputs": [
    {
     "data": {
      "text/plain": [
       "<AxesSubplot:title={'center':'Selected 15 Sites that Serve 2000 m'}>"
      ]
     },
     "execution_count": 108,
     "metadata": {},
     "output_type": "execute_result"
    },
    {
     "data": {
      "image/png": "[encoded data removed]",
      "text/plain": [
       "<Figure size 2000x1500 with 1 Axes>"
      ]
     },
     "metadata": {},
     "output_type": "display_data"
    }
   ],
   "source": [
    "opt_sites = bbs_.iloc[solution]\n",
    "plot_result(ls,opt_sites,2000)"
   ]
  },
  {
   "cell_type": "code",
   "execution_count": 37,
   "metadata": {
    "pycharm": {
     "name": "#%%\n"
    }
   },
   "outputs": [],
   "source": []
  },
  {
   "cell_type": "code",
   "execution_count": 104,
   "metadata": {
    "pycharm": {
     "name": "#%%\n"
    }
   },
   "outputs": [],
   "source": [
    "from nets.reinforce_baselines import RolloutBaseline, WarmupBaseline\n",
    "import torch.optim as optim\n",
    "\n",
    "# Initialize baseline\n",
    "baseline = RolloutBaseline(model, problem, opts)\n",
    "\n",
    "if opts.bl_warmup_epochs > 0:\n",
    "    baseline = WarmupBaseline(baseline, opts.bl_warmup_epochs, warmup_exp_beta=opts.exp_beta)\n",
    "\n",
    "# Load baseline from data, make sure script is called with same type of baseline\n",
    "if 'baseline' in load_data:\n",
    "    baseline.load_state_dict(load_data['baseline'])\n",
    "\n",
    "# Initialize optimizer\n",
    "optimizer = optim.Adam(\n",
    "    [{'params': model.parameters(), 'lr': opts.lr_model}]\n",
    "    + (\n",
    "        [{'params': baseline.get_learnable_parameters(), 'lr': opts.lr_critic}]\n",
    "        if len(baseline.get_learnable_parameters()) > 0\n",
    "        else []\n",
    "    )\n",
    ")\n",
    "# Initialize learning rate scheduler, decay by lr_decay once per epoch!\n",
    "lr_scheduler = optim.lr_scheduler.LambdaLR(optimizer, lambda epoch: opts.lr_decay ** epoch)\n",
    "opts.n_epochs = 2\n",
    "opts.epoch_start = 0\n",
    "from nets.attention_model import set_decode_type\n",
    "from train import train_batch\n",
    "\n",
    "for epoch in range(opts.epoch_start, opts.epoch_start + opts.n_epochs):\n",
    "    step = epoch * (opts.epoch_size // opts.batch_size)\n",
    "    start_time = time.time()\n",
    "    training_dataset = real_datasets\n",
    "    training_dataloader = DataLoader(training_dataset, batch_size=100, num_workers=4)\n",
    "\n",
    "    # Put model in train mode!\n",
    "    model.train()\n",
    "    set_decode_type(model, \"sampling\")\n",
    "    for batch_id, batch in enumerate(tqdm(training_dataloader, disable=opts.no_progress_bar)):\n",
    "        train_batch(\n",
    "            model,\n",
    "            optimizer,\n",
    "            baseline,\n",
    "            epoch,\n",
    "            batch_id,\n",
    "            step,\n",
    "            batch,\n",
    "            tb_logger,\n",
    "            opts\n",
    "        )\n",
    "\n",
    "        step += 1\n",
    "\n",
    "    epoch_duration = time.time() - start_time\n",
    "    print(\"Finished epoch {}, took {} s\".format(epoch, time.strftime('%H:%M:%S', time.gmtime(epoch_duration))))\n",
    "\n",
    "    if (opts.checkpoint_epochs != 0 and epoch % opts.checkpoint_epochs == 0) or epoch == opts.n_epochs - 1:\n",
    "        print('Saving model and state...')\n",
    "        torch.save(\n",
    "            {\n",
    "                'model': get_inner_model(model).state_dict(),\n",
    "                'optimizer': optimizer.state_dict(),\n",
    "                'rng_state': torch.get_rng_state(),\n",
    "                'cuda_rng_state': torch.cuda.get_rng_state_all(),\n",
    "                'baseline': baseline.state_dict()\n",
    "            },\n",
    "            os.path.join(opts.save_dir, 'epoch-{}.pt'.format(epoch))\n",
    "        )\n",
    "    avg_cost = validate(model, real_datasets, opts)\n",
    "    if not opts.no_tensorboard:\n",
    "        tb_logger.log_value('val_avg_reward', avg_cost, step)\n",
    "\n",
    "    baseline.epoch_callback(model, epoch)\n",
    "\n",
    "    # lr_scheduler should be called at end of epoch\n",
    "    lr_scheduler.step()"
   ]
  }
 ],
 "metadata": {
  "kernelspec": {
   "display_name": "Python 3 (ipykernel)",
   "language": "python",
   "name": "python3"
  },
  "language_info": {
   "codemirror_mode": {
    "name": "ipython",
    "version": 3
   },
   "file_extension": ".py",
   "mimetype": "text/x-python",
   "name": "python",
   "nbconvert_exporter": "python",
   "pygments_lexer": "ipython3",
   "version": "3.10.9"
  }
 },
 "nbformat": 4,
 "nbformat_minor": 1
}
